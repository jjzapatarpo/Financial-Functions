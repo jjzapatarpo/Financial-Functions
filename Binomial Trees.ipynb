{
 "cells": [
  {
   "cell_type": "code",
   "execution_count": 3,
   "metadata": {},
   "outputs": [],
   "source": [
    "import math \n",
    "from math import factorial\n",
    "import numpy as np"
   ]
  },
  {
   "attachments": {},
   "cell_type": "markdown",
   "metadata": {},
   "source": [
    "# Binomial Trees\n",
    "\n",
    "Binomial Trees are a useful technique for pricing options and other derivatives. They represent different possible price paths that might be followed by the asset underlying the derivatives contract. The general assumption for binomial trees is that the underlying's price follows a random walk. They also incorporate the argument of no-arbitrage and the principle of risk-neutral valuation.\n",
    "\n",
    "This function is able to calculate both European and American options using binomial trees. It also displays the whole tree structure. Any number of steps can be calculated, and results for European options should converge to the results given by the Black-Scholes model."
   ]
  },
  {
   "cell_type": "code",
   "execution_count": 29,
   "metadata": {},
   "outputs": [],
   "source": [
    "def binomial_tree(s, k, t, r, q, vol, n_steps, type_opt='european', call_put='call'):\n",
    "\n",
    "    # Each step considers the time to maturity divided by the number of steps\n",
    "    delta_t = t/n_steps\n",
    "\n",
    "    # We calculate the upward and downward probabilities based on the given volatility\n",
    "    u = math.exp(vol*math.sqrt(delta_t)) \n",
    "    d = 1/u\n",
    "    a = math.exp((r-q)*delta_t)\n",
    "    p = (a-d)/(u-d)\n",
    "\n",
    "    # We build the stock's tree. It will later be merged with the option's tree\n",
    "    tree = {}\n",
    "    for i in np.arange(n_steps+1):\n",
    "        inner_tree = {}\n",
    "        for j in np.arange(start=0, stop=i+1):\n",
    "            inner_tree[j] = s*(u**(i-j))*(d**(j))\n",
    "        tree[i] = inner_tree\n",
    "\n",
    "    # We create dictionaries that will be used to create the option's tree\n",
    "    opt_tree = {}\n",
    "    opt_tree_last = {}\n",
    "    # We calculate the option's value at the last step. This values will be backpropagated to construct the option's tree\n",
    "    if call_put=='call':\n",
    "        for ky,v in tree[n_steps].items():\n",
    "            poff = np.max([v-k,0])\n",
    "            opt_tree_last[ky] = poff\n",
    "    elif call_put=='put':\n",
    "        for ky,v in tree[n_steps].items():\n",
    "            poff = np.max([k-v,0])\n",
    "            opt_tree_last[ky] = poff\n",
    "    opt_tree[n_steps] = opt_tree_last   # Here, we store the option's payoff of the last step. This values will be backpropagated \n",
    "\n",
    "    if type_opt=='american':\n",
    "        # We backpropagate the option and fill up the option's tree\n",
    "        for i in list(tree.keys())[::-1][:-1]:\n",
    "            dict_opt = {}\n",
    "            for n in np.arange(i):\n",
    "                fu = opt_tree[i][n]\n",
    "                fd = opt_tree[i][n+1]\n",
    "                f = math.exp(-r*delta_t)*(p*fu+(1-p)*fd)\n",
    "                # Since the option is American and can be exercised before the maturity of the option, we have to check for the real value of the option at any given \n",
    "                # time. If the option is more valuable when exercising, the difference between spot and strike prices (according to whether it's a call or put option)\n",
    "                # then its price will be such a difference. If not, it will be the present value of the expected value of the option for the given probabilities\n",
    "                if call_put=='call':\n",
    "                    diff = tree[i-1][n]-k\n",
    "                elif call_put=='put':\n",
    "                    diff = k-tree[i-1][n]        \n",
    "                dict_opt[n] = np.max([f, diff])\n",
    "            opt_tree[i-1] = dict_opt\n",
    "    \n",
    "    elif type_opt=='european':\n",
    "        # We backpropagate the option and fill up the option's tree\n",
    "        for i in list(tree.keys())[::-1][:-1]:\n",
    "            dict_opt = {}\n",
    "            for n in np.arange(i):\n",
    "                fu = opt_tree[i][n]\n",
    "                fd = opt_tree[i][n+1]\n",
    "                f = math.exp(-r*delta_t)*(p*fu+(1-p)*fd)\n",
    "                dict_opt[n] = f\n",
    "            opt_tree[i-1] = dict_opt\n",
    "\n",
    "    binom_tree = {}\n",
    "    for ky,v in tree.items():\n",
    "        level_dict = {}\n",
    "        for k1, prices in v.items():\n",
    "            option_price = opt_tree[ky][k1]\n",
    "            level_dict[k1] = [np.round(prices,4), np.round(option_price,4)]\n",
    "        binom_tree[ky] = level_dict\n",
    "\n",
    "    return {'price':np.round(f,4), 'tree':binom_tree}"
   ]
  },
  {
   "cell_type": "code",
   "execution_count": 28,
   "metadata": {},
   "outputs": [
    {
     "data": {
      "text/plain": [
       "{'price': 2.8356,\n",
       " 'tree': {0: {0: [31.0, 2.84]},\n",
       "  1: {0: [36.0169, 0.93], 1: [26.6819, 4.54]},\n",
       "  2: {0: [41.8456, 0.0], 1: [31.0, 1.76], 2: [22.9654, 7.03]},\n",
       "  3: {0: [48.6177, 0.0],\n",
       "   1: [36.0169, 0.0],\n",
       "   2: [26.6819, 3.32],\n",
       "   3: [19.7665, 10.23]}}}"
      ]
     },
     "execution_count": 28,
     "metadata": {},
     "output_type": "execute_result"
    }
   ],
   "source": [
    "binomial_tree(s=31, k=30, t=9/12, r=0.05, vol=0.3, q=0.05, \n",
    "              n_steps=3, type_opt='american', call_put='put')"
   ]
  },
  {
   "attachments": {},
   "cell_type": "markdown",
   "metadata": {},
   "source": [
    "# References\n",
    "Hull, J. C. (2015). Options, Futures, and Other Derivatives (9th ed.). Toronto: Pearson Education Inc."
   ]
  }
 ],
 "metadata": {
  "kernelspec": {
   "display_name": "Python 3",
   "language": "python",
   "name": "python3"
  },
  "language_info": {
   "codemirror_mode": {
    "name": "ipython",
    "version": 3
   },
   "file_extension": ".py",
   "mimetype": "text/x-python",
   "name": "python",
   "nbconvert_exporter": "python",
   "pygments_lexer": "ipython3",
   "version": "3.10.7"
  },
  "orig_nbformat": 4
 },
 "nbformat": 4,
 "nbformat_minor": 2
}
