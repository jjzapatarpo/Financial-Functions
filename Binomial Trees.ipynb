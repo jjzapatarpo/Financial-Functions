{
 "cells": [
  {
   "cell_type": "code",
   "execution_count": 1,
   "metadata": {},
   "outputs": [],
   "source": [
    "import math \n",
    "from math import factorial\n",
    "import numpy as np"
   ]
  },
  {
   "cell_type": "code",
   "execution_count": 40,
   "metadata": {},
   "outputs": [],
   "source": [
    "def binomial_tree(spot, strike, delta_t, r, u, d, n_steps, call_put='call'):\n",
    "\n",
    "    p = (math.exp(r*delta_t)-d)/(u-d)\n",
    "\n",
    "    coefficients = []\n",
    "    terms = {}\n",
    "    for i in np.arange(n_steps+1):\n",
    "        coefficient = factorial(n_steps)//(factorial(i)*(factorial(n_steps-i)))\n",
    "        coefficients.append(coefficient)\n",
    "        terms[i] = p**(n_steps-i)*((1-p)**(i)) \n",
    "\n",
    "    tree = {}\n",
    "    for i in np.arange(n_steps+1):\n",
    "        inner_tree = {}\n",
    "        for j in np.arange(start=0, stop=i+1):\n",
    "            inner_tree[j] = spot*(u**(i-j))*(d**(j))\n",
    "        tree[i] = inner_tree\n",
    "    \n",
    "    fs = {}\n",
    "    opt_tree = {}\n",
    "    opt_tree_last = {}\n",
    "\n",
    "    if call_put=='call':\n",
    "        for k,v in tree[n_steps].items():\n",
    "            poff = np.max([v-strike,0])\n",
    "            fs[k] = [poff, coefficients[k], terms[k]]\n",
    "            opt_tree_last[k] = poff\n",
    "\n",
    "    elif call_put=='put':\n",
    "        for k,v in tree[n_steps].items():\n",
    "            poff = np.max([strike-v,0])\n",
    "            fs[k] = [poff, coefficients[k], terms[k]]\n",
    "            opt_tree_last[k] = poff\n",
    "\n",
    "    opt_tree[n_steps] = opt_tree_last\n",
    "    \n",
    "    polinom = []\n",
    "    for k in fs.keys():\n",
    "        polinom.append(np.prod(fs[k]))\n",
    "    f = math.exp(-n_steps*r*delta_t)*np.sum(polinom)\n",
    "\n",
    "    for i in list(tree.keys())[::-1][:-1]:\n",
    "        dict_opt = {}\n",
    "        for n in np.arange(i):\n",
    "            fu = opt_tree[i][n]\n",
    "            fd = opt_tree[i][n+1]\n",
    "            f = math.exp(-r*delta_t)*(p*fu+(1-p)*fd)\n",
    "            dict_opt[n] = f\n",
    "        opt_tree[i-1] = dict_opt\n",
    "\n",
    "    binom_tree = {}\n",
    "    for k,v in tree.items():\n",
    "        level_dict = {}\n",
    "        for k1, prices in v.items():\n",
    "            option_price = opt_tree[k][k1]\n",
    "            level_dict[k1] = [np.round(prices,4), np.round(option_price,4)]\n",
    "        binom_tree[k] = level_dict\n",
    "\n",
    "    return {'price':np.round(f,4), 'tree':binom_tree}"
   ]
  },
  {
   "cell_type": "code",
   "execution_count": 48,
   "metadata": {},
   "outputs": [
    {
     "data": {
      "text/plain": [
       "{'price': 11.1699,\n",
       " 'tree': {0: {0: [100.0, 11.1699]},\n",
       "  1: {0: [125.0, 4.2323], 1: [80.0, 19.6299]},\n",
       "  2: {0: [156.25, 0.0], 1: [100.0, 9.2003], 2: [64.0, 32.5605]},\n",
       "  3: {0: [195.3125, 0.0], 1: [125.0, 0.0], 2: [80.0, 20.0], 3: [51.2, 48.8]}}}"
      ]
     },
     "execution_count": 48,
     "metadata": {},
     "output_type": "execute_result"
    }
   ],
   "source": [
    "binomial_tree(spot=100, strike=100, delta_t=0.5, r=0.07, u=1.25, d=0.8, n_steps=3, call_put='put')"
   ]
  },
  {
   "cell_type": "code",
   "execution_count": null,
   "metadata": {},
   "outputs": [],
   "source": []
  }
 ],
 "metadata": {
  "kernelspec": {
   "display_name": "Python 3",
   "language": "python",
   "name": "python3"
  },
  "language_info": {
   "codemirror_mode": {
    "name": "ipython",
    "version": 3
   },
   "file_extension": ".py",
   "mimetype": "text/x-python",
   "name": "python",
   "nbconvert_exporter": "python",
   "pygments_lexer": "ipython3",
   "version": "3.10.7"
  },
  "orig_nbformat": 4
 },
 "nbformat": 4,
 "nbformat_minor": 2
}
